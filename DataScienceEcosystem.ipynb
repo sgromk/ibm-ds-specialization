{
 "cells": [
  {
   "cell_type": "markdown",
   "id": "47895585-42f1-4f6b-b5c2-065102f272d4",
   "metadata": {},
   "source": [
    "# Data Science Tools and Ecosystem"
   ]
  },
  {
   "cell_type": "markdown",
   "id": "f1a8c265-75b2-4590-9f1d-ebbcb4f66d6f",
   "metadata": {},
   "source": [
    "In this notebook, Data Science Tools and Ecosystem are summarized."
   ]
  },
  {
   "cell_type": "markdown",
   "id": "0d6c4415-4e63-4b2a-8e85-997e01a367b7",
   "metadata": {},
   "source": [
    "Objectives:\n",
    "- List popular Data Science languages\n",
    "- List popular Data Science libraries\n",
    "- List popular Data Science tools\n",
    "- Demonstrate the evaluation of some arithmetic expressions"
   ]
  },
  {
   "cell_type": "markdown",
   "id": "005656cc-ec21-434f-be0d-f16f0adba52c",
   "metadata": {},
   "source": [
    "Some of the popular languages that Data Scientists use are:\n",
    "1. Julia\n",
    "2. Python\n",
    "3. R"
   ]
  },
  {
   "cell_type": "markdown",
   "id": "aa6b0a88-1339-4437-b8cf-50ac1d3d7224",
   "metadata": {},
   "source": [
    "Some of the commonly used libraries used by Data Scientists include:\n",
    "1. pandas\n",
    "2. matplotlib\n",
    "3. sci-kit learn"
   ]
  },
  {
   "cell_type": "markdown",
   "id": "905ebd23-00ed-4619-ac36-826cd385ba2d",
   "metadata": {},
   "source": [
    "|Data Science Tools|\n",
    "|---|\n",
    "|Rstudio|\n",
    "|Jupyter Lab|\n",
    "|VSCode|"
   ]
  },
  {
   "cell_type": "markdown",
   "id": "571240b3-2766-4742-9a20-df84874d2f19",
   "metadata": {},
   "source": [
    "### Below are a few examples of evaluating arithmetic expressions in Python\n"
   ]
  },
  {
   "cell_type": "code",
   "execution_count": 1,
   "id": "a52d655f-11e3-41d7-be90-2b02c082bd5a",
   "metadata": {},
   "outputs": [
    {
     "data": {
      "text/plain": [
       "17"
      ]
     },
     "execution_count": 1,
     "metadata": {},
     "output_type": "execute_result"
    }
   ],
   "source": [
    "# This a simple arithmetic expression to mutiply then add integers\n",
    "(3*4)+5"
   ]
  },
  {
   "cell_type": "code",
   "execution_count": 4,
   "id": "511a9b32-5eae-4c64-8076-8b588cc55fe0",
   "metadata": {},
   "outputs": [
    {
     "data": {
      "text/plain": [
       "3.3333333333333335"
      ]
     },
     "execution_count": 4,
     "metadata": {},
     "output_type": "execute_result"
    }
   ],
   "source": [
    "# This will convert 200 minutes to hours by diving by 60\n",
    "minutes = 200\n",
    "hours = minutes / 60\n",
    "hours"
   ]
  },
  {
   "cell_type": "markdown",
   "id": "900e6d72-ca64-4bea-90e2-4c5a4c4c09ef",
   "metadata": {},
   "source": [
    "## Author\n",
    "Gabriel Kinshuk"
   ]
  }
 ],
 "metadata": {
  "kernelspec": {
   "display_name": "Python 3 (ipykernel)",
   "language": "python",
   "name": "python3"
  },
  "language_info": {
   "codemirror_mode": {
    "name": "ipython",
    "version": 3
   },
   "file_extension": ".py",
   "mimetype": "text/x-python",
   "name": "python",
   "nbconvert_exporter": "python",
   "pygments_lexer": "ipython3",
   "version": "3.12.3"
  }
 },
 "nbformat": 4,
 "nbformat_minor": 5
}
